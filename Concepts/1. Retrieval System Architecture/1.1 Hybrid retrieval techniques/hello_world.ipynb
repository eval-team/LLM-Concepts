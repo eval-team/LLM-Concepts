{
 "cells": [
  {
   "cell_type": "markdown",
   "id": "7cb74116",
   "metadata": {},
   "source": [
    "# Hello World Notebook\n",
    "\n",
    "This is a simple notebook that demonstrates a basic Python \"Hello World\" example."
   ]
  },
  {
   "cell_type": "code",
   "execution_count": 1,
   "id": "ba82f937",
   "metadata": {},
   "outputs": [
    {
     "name": "stdout",
     "output_type": "stream",
     "text": [
      "Hello, World!\n"
     ]
    }
   ],
   "source": [
    "# Simple Hello World example\n",
    "print(\"Hello, World!\")"
   ]
  }
 ],
 "metadata": {
  "kernelspec": {
   "display_name": ".venv",
   "language": "python",
   "name": "python3"
  },
  "language_info": {
   "codemirror_mode": {
    "name": "ipython",
    "version": 3
   },
   "file_extension": ".py",
   "mimetype": "text/x-python",
   "name": "python",
   "nbconvert_exporter": "python",
   "pygments_lexer": "ipython3",
   "version": "3.13.7"
  }
 },
 "nbformat": 4,
 "nbformat_minor": 5
}
