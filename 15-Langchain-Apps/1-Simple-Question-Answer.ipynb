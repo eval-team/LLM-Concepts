{
 "cells": [
  {
   "cell_type": "markdown",
   "id": "df822ffd",
   "metadata": {},
   "source": [
    "# Simple Question Answering System"
   ]
  },
  {
   "cell_type": "markdown",
   "id": "e50213de",
   "metadata": {},
   "source": [
    "Learning Objectives\n",
    "* Build a simple question-answering application using LangChain.\n",
    "* Implement LangChain models for summarization, completion, and classification."
   ]
  },
  {
   "cell_type": "code",
   "execution_count": null,
   "id": "751fb5c8",
   "metadata": {},
   "outputs": [],
   "source": [
    "# %pip install -q langchain openai python-dotenv langchain_openai"
   ]
  },
  {
   "cell_type": "markdown",
   "id": "5622fd12",
   "metadata": {},
   "source": [
    "Imports"
   ]
  },
  {
   "cell_type": "code",
   "execution_count": 1,
   "id": "0018be46",
   "metadata": {},
   "outputs": [],
   "source": [
    "from langchain_openai import OpenAI\n",
    "import os\n",
    "from dotenv import load_dotenv\n",
    "\n",
    "# Load environment variables from .env file\n",
    "load_dotenv()\n",
    "\n",
    "# Now get the API key (it should be loaded from .env file)\n",
    "openai_api_key = os.getenv('OPENAI_API_KEY')\n",
    "if openai_api_key:\n",
    "    os.environ[\"OPENAI_API_KEY\"] = openai_api_key\n",
    "else:\n",
    "    print(\"Warning: OPENAI_API_KEY not found in environment variables.\")\n",
    "    print(\"Please make sure you have a .env file with OPENAI_API_KEY=your_api_key\")"
   ]
  },
  {
   "cell_type": "markdown",
   "id": "3fb365ab",
   "metadata": {},
   "source": [
    "Invoke LLM"
   ]
  },
  {
   "cell_type": "code",
   "execution_count": 4,
   "id": "b7f8ffd1",
   "metadata": {},
   "outputs": [
    {
     "name": "stdout",
     "output_type": "stream",
     "text": [
      "\n",
      "\n",
      "The currency of India is the Indian Rupee (INR).\n"
     ]
    }
   ],
   "source": [
    "llm = OpenAI(model_name=\"gpt-3.5-turbo-instruct\")\n",
    "completion = llm.invoke(\"What is the currency of India?\")\n",
    "print(completion)"
   ]
  }
 ],
 "metadata": {
  "kernelspec": {
   "display_name": ".venv",
   "language": "python",
   "name": "python3"
  },
  "language_info": {
   "codemirror_mode": {
    "name": "ipython",
    "version": 3
   },
   "file_extension": ".py",
   "mimetype": "text/x-python",
   "name": "python",
   "nbconvert_exporter": "python",
   "pygments_lexer": "ipython3",
   "version": "3.13.7"
  }
 },
 "nbformat": 4,
 "nbformat_minor": 5
}
