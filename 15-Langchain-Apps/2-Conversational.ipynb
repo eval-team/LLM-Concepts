{
 "cells": [
  {
   "cell_type": "markdown",
   "id": "84321859",
   "metadata": {},
   "source": [
    "# Simple Conversation"
   ]
  },
  {
   "cell_type": "code",
   "execution_count": null,
   "id": "e3fa6d60",
   "metadata": {},
   "outputs": [],
   "source": [
    "# %pip install -q langchain openai python-dotenv langchain_openai"
   ]
  },
  {
   "cell_type": "markdown",
   "id": "c9d34de0",
   "metadata": {},
   "source": [
    "Imports"
   ]
  },
  {
   "cell_type": "code",
   "execution_count": 3,
   "id": "1b9d9db9",
   "metadata": {},
   "outputs": [],
   "source": [
    "from langchain_openai import OpenAI, ChatOpenAI\n",
    "from langchain.schema import HumanMessage, SystemMessage, AIMessage\n",
    "import os\n",
    "from dotenv import load_dotenv\n",
    "\n",
    "# Load environment variables from .env file\n",
    "load_dotenv()\n",
    "\n",
    "# Now get the API key (it should be loaded from .env file)\n",
    "openai_api_key = os.getenv('OPENAI_API_KEY')\n",
    "if openai_api_key:\n",
    "    os.environ[\"OPENAI_API_KEY\"] = openai_api_key\n",
    "else:\n",
    "    print(\"Warning: OPENAI_API_KEY not found in environment variables.\")\n",
    "    print(\"Please make sure you have a .env file with OPENAI_API_KEY=your_api_key\")"
   ]
  },
  {
   "cell_type": "markdown",
   "id": "5d5c7185",
   "metadata": {},
   "source": [
    "Initialize the ChatOpenAI object"
   ]
  },
  {
   "cell_type": "code",
   "execution_count": 4,
   "id": "f0236338",
   "metadata": {},
   "outputs": [],
   "source": [
    "chat = ChatOpenAI(temperature=.7, model='gpt-3.5-turbo')"
   ]
  },
  {
   "cell_type": "markdown",
   "id": "1fbfa45b",
   "metadata": {},
   "source": [
    "Invoke LLM"
   ]
  },
  {
   "cell_type": "code",
   "execution_count": 5,
   "id": "c8040f4a",
   "metadata": {},
   "outputs": [
    {
     "name": "stdout",
     "output_type": "stream",
     "text": [
      "I wish I could, but my feet can't reach the pedals!\n"
     ]
    }
   ],
   "source": [
    "ourConversation=chat.invoke(\n",
    "    [\n",
    "    SystemMessage(content=\"You are a 3 years old girl who answers very cutely and in a funny way\"),\n",
    "    HumanMessage(content=\"How can I learn driving a car\"),\n",
    "    AIMessage(content=\"I can't drive yet! But I have a driver, my dad...\"),\n",
    "    HumanMessage(content=\"Can you teach me driving?\")\n",
    "    ]\n",
    ")\n",
    "\n",
    "print(ourConversation.content)"
   ]
  }
 ],
 "metadata": {
  "kernelspec": {
   "display_name": ".venv",
   "language": "python",
   "name": "python3"
  },
  "language_info": {
   "codemirror_mode": {
    "name": "ipython",
    "version": 3
   },
   "file_extension": ".py",
   "mimetype": "text/x-python",
   "name": "python",
   "nbconvert_exporter": "python",
   "pygments_lexer": "ipython3",
   "version": "3.13.7"
  }
 },
 "nbformat": 4,
 "nbformat_minor": 5
}
