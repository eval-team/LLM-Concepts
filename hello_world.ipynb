{
 "cells": [
  {
   "cell_type": "markdown",
   "id": "7cb74116",
   "metadata": {},
   "source": [
    "# Hello World Notebook\n",
    "\n",
    "This is a simple notebook that demonstrates a basic Python \"Hello World\" example."
   ]
  },
  {
   "cell_type": "code",
   "execution_count": null,
   "id": "ba82f937",
   "metadata": {},
   "outputs": [],
   "source": [
    "# Simple Hello World example\n",
    "print(\"Hello, World!\")"
   ]
  },
  {
   "cell_type": "code",
   "execution_count": null,
   "id": "c8951db3",
   "metadata": {},
   "outputs": [],
   "source": [
    "# A more personalized greeting\n",
    "name = \"Python Developer\"\n",
    "print(f\"Hello, {name}! Welcome to Jupyter Notebooks!\")"
   ]
  },
  {
   "cell_type": "markdown",
   "id": "1f5377fe",
   "metadata": {},
   "source": [
    "## Additional Examples\n",
    "\n",
    "Here are some additional simple Python examples you can try:"
   ]
  },
  {
   "cell_type": "code",
   "execution_count": null,
   "id": "aff13a95",
   "metadata": {},
   "outputs": [],
   "source": [
    "# Simple arithmetic\n",
    "a = 10\n",
    "b = 20\n",
    "result = a + b\n",
    "print(f\"The sum of {a} and {b} is: {result}\")"
   ]
  }
 ],
 "metadata": {
  "language_info": {
   "name": "python"
  }
 },
 "nbformat": 4,
 "nbformat_minor": 5
}
